{
 "cells": [
  {
   "cell_type": "code",
   "execution_count": 1,
   "metadata": {},
   "outputs": [
    {
     "data": {
      "text/html": [
       "<style>.container { width:100% !important; }</style>"
      ],
      "text/plain": [
       "<IPython.core.display.HTML object>"
      ]
     },
     "metadata": {},
     "output_type": "display_data"
    }
   ],
   "source": [
    "from IPython.display import display, HTML\n",
    "display(HTML(\"<style>.container { width:100% !important; }</style>\"))"
   ]
  },
  {
   "cell_type": "code",
   "execution_count": 2,
   "metadata": {},
   "outputs": [
    {
     "name": "stdout",
     "output_type": "stream",
     "text": [
      "Requirement already satisfied: fastapi in c:\\users\\shadow\\anaconda3\\lib\\site-packages (0.104.0)\n",
      "Requirement already satisfied: anyio<4.0.0,>=3.7.1 in c:\\users\\shadow\\anaconda3\\lib\\site-packages (from fastapi) (3.7.1)\n",
      "Requirement already satisfied: pydantic!=1.8,!=1.8.1,!=2.0.0,!=2.0.1,!=2.1.0,<3.0.0,>=1.7.4 in c:\\users\\shadow\\anaconda3\\lib\\site-packages (from fastapi) (2.5.1)\n",
      "Requirement already satisfied: starlette<0.28.0,>=0.27.0 in c:\\users\\shadow\\anaconda3\\lib\\site-packages (from fastapi) (0.27.0)\n",
      "Requirement already satisfied: typing-extensions>=4.8.0 in c:\\users\\shadow\\anaconda3\\lib\\site-packages (from fastapi) (4.8.0)\n",
      "Requirement already satisfied: idna>=2.8 in c:\\users\\shadow\\anaconda3\\lib\\site-packages (from anyio<4.0.0,>=3.7.1->fastapi) (3.4)\n",
      "Requirement already satisfied: sniffio>=1.1 in c:\\users\\shadow\\anaconda3\\lib\\site-packages (from anyio<4.0.0,>=3.7.1->fastapi) (1.2.0)\n",
      "Requirement already satisfied: annotated-types>=0.4.0 in c:\\users\\shadow\\anaconda3\\lib\\site-packages (from pydantic!=1.8,!=1.8.1,!=2.0.0,!=2.0.1,!=2.1.0,<3.0.0,>=1.7.4->fastapi) (0.6.0)\n",
      "Requirement already satisfied: pydantic-core==2.14.3 in c:\\users\\shadow\\anaconda3\\lib\\site-packages (from pydantic!=1.8,!=1.8.1,!=2.0.0,!=2.0.1,!=2.1.0,<3.0.0,>=1.7.4->fastapi) (2.14.3)\n",
      "Requirement already satisfied: nest-asyncio in c:\\users\\shadow\\anaconda3\\lib\\site-packages (1.5.6)\n",
      "Requirement already satisfied: uvicorn in c:\\users\\shadow\\anaconda3\\lib\\site-packages (0.23.2)\n",
      "Requirement already satisfied: click>=7.0 in c:\\users\\shadow\\anaconda3\\lib\\site-packages (from uvicorn) (8.1.7)\n",
      "Requirement already satisfied: h11>=0.8 in c:\\users\\shadow\\anaconda3\\lib\\site-packages (from uvicorn) (0.14.0)\n",
      "Requirement already satisfied: colorama in c:\\users\\shadow\\anaconda3\\lib\\site-packages (from click>=7.0->uvicorn) (0.4.6)\n",
      "Requirement already satisfied: nest_asyncio in c:\\users\\shadow\\anaconda3\\lib\\site-packages (1.5.6)\n",
      "Requirement already satisfied: aiosqlite in c:\\users\\shadow\\anaconda3\\lib\\site-packages (0.18.0)\n"
     ]
    }
   ],
   "source": [
    "!pip install fastapi\n",
    "!pip install nest-asyncio\n",
    "!pip install uvicorn\n",
    "!pip install nest_asyncio\n",
    "!pip install aiosqlite\n"
   ]
  },
  {
   "cell_type": "code",
   "execution_count": 2,
   "metadata": {},
   "outputs": [
    {
     "name": "stdout",
     "output_type": "stream",
     "text": [
      "Requirement already satisfied: llama-cpp-python==0.1.78 in c:\\users\\shadow\\anaconda3\\lib\\site-packages (0.1.78)\n",
      "Requirement already satisfied: typing-extensions>=4.5.0 in c:\\users\\shadow\\anaconda3\\lib\\site-packages (from llama-cpp-python==0.1.78) (4.8.0)\n",
      "Requirement already satisfied: numpy>=1.20.0 in c:\\users\\shadow\\anaconda3\\lib\\site-packages (from llama-cpp-python==0.1.78) (1.23.5)\n",
      "Requirement already satisfied: diskcache>=5.6.1 in c:\\users\\shadow\\anaconda3\\lib\\site-packages (from llama-cpp-python==0.1.78) (5.6.3)\n"
     ]
    }
   ],
   "source": [
    "!set \"CMAKE_ARGS=-DLLAMA_CUBLAS=on\" && set \"FORCE_CMAKE=1\" && pip install llama-cpp-python==0.1.78"
   ]
  },
  {
   "cell_type": "code",
   "execution_count": 3,
   "metadata": {},
   "outputs": [
    {
     "ename": "RuntimeError",
     "evalue": "Failed to load shared library 'C:\\Users\\Shadow\\anaconda3\\Lib\\site-packages\\llama_cpp\\llama.dll': Could not find module 'C:\\Users\\Shadow\\anaconda3\\Lib\\site-packages\\llama_cpp\\llama.dll' (or one of its dependencies). Try using the full path with constructor syntax.",
     "output_type": "error",
     "traceback": [
      "\u001b[1;31m---------------------------------------------------------------------------\u001b[0m",
      "\u001b[1;31mFileNotFoundError\u001b[0m                         Traceback (most recent call last)",
      "File \u001b[1;32m~\\anaconda3\\Lib\\site-packages\\llama_cpp\\llama_cpp.py:67\u001b[0m, in \u001b[0;36m_load_shared_library\u001b[1;34m(lib_base_name)\u001b[0m\n\u001b[0;32m     66\u001b[0m \u001b[38;5;28;01mtry\u001b[39;00m:\n\u001b[1;32m---> 67\u001b[0m     \u001b[38;5;28;01mreturn\u001b[39;00m ctypes\u001b[38;5;241m.\u001b[39mCDLL(\u001b[38;5;28mstr\u001b[39m(_lib_path), \u001b[38;5;241m*\u001b[39m\u001b[38;5;241m*\u001b[39mcdll_args)\n\u001b[0;32m     68\u001b[0m \u001b[38;5;28;01mexcept\u001b[39;00m \u001b[38;5;167;01mException\u001b[39;00m \u001b[38;5;28;01mas\u001b[39;00m e:\n",
      "File \u001b[1;32m~\\anaconda3\\Lib\\ctypes\\__init__.py:376\u001b[0m, in \u001b[0;36mCDLL.__init__\u001b[1;34m(self, name, mode, handle, use_errno, use_last_error, winmode)\u001b[0m\n\u001b[0;32m    375\u001b[0m \u001b[38;5;28;01mif\u001b[39;00m handle \u001b[38;5;129;01mis\u001b[39;00m \u001b[38;5;28;01mNone\u001b[39;00m:\n\u001b[1;32m--> 376\u001b[0m     \u001b[38;5;28mself\u001b[39m\u001b[38;5;241m.\u001b[39m_handle \u001b[38;5;241m=\u001b[39m _dlopen(\u001b[38;5;28mself\u001b[39m\u001b[38;5;241m.\u001b[39m_name, mode)\n\u001b[0;32m    377\u001b[0m \u001b[38;5;28;01melse\u001b[39;00m:\n",
      "\u001b[1;31mFileNotFoundError\u001b[0m: Could not find module 'C:\\Users\\Shadow\\anaconda3\\Lib\\site-packages\\llama_cpp\\llama.dll' (or one of its dependencies). Try using the full path with constructor syntax.",
      "\nDuring handling of the above exception, another exception occurred:\n",
      "\u001b[1;31mRuntimeError\u001b[0m                              Traceback (most recent call last)",
      "Cell \u001b[1;32mIn[3], line 9\u001b[0m\n\u001b[0;32m      7\u001b[0m \u001b[38;5;28;01mimport\u001b[39;00m \u001b[38;5;21;01maiohttp\u001b[39;00m\n\u001b[0;32m      8\u001b[0m \u001b[38;5;28;01mfrom\u001b[39;00m \u001b[38;5;21;01msumma\u001b[39;00m \u001b[38;5;28;01mimport\u001b[39;00m summarizer\n\u001b[1;32m----> 9\u001b[0m \u001b[38;5;28;01mfrom\u001b[39;00m \u001b[38;5;21;01mllama_cpp\u001b[39;00m \u001b[38;5;28;01mimport\u001b[39;00m Llama\n\u001b[0;32m     10\u001b[0m \u001b[38;5;28;01mimport\u001b[39;00m \u001b[38;5;21;01mweaviate\u001b[39;00m\n\u001b[0;32m     11\u001b[0m \u001b[38;5;28;01mimport\u001b[39;00m \u001b[38;5;21;01mre\u001b[39;00m\n",
      "File \u001b[1;32m~\\anaconda3\\Lib\\site-packages\\llama_cpp\\__init__.py:1\u001b[0m\n\u001b[1;32m----> 1\u001b[0m \u001b[38;5;28;01mfrom\u001b[39;00m \u001b[38;5;21;01m.\u001b[39;00m\u001b[38;5;21;01mllama_cpp\u001b[39;00m \u001b[38;5;28;01mimport\u001b[39;00m \u001b[38;5;241m*\u001b[39m\n\u001b[0;32m      2\u001b[0m \u001b[38;5;28;01mfrom\u001b[39;00m \u001b[38;5;21;01m.\u001b[39;00m\u001b[38;5;21;01mllama\u001b[39;00m \u001b[38;5;28;01mimport\u001b[39;00m \u001b[38;5;241m*\u001b[39m\n",
      "File \u001b[1;32m~\\anaconda3\\Lib\\site-packages\\llama_cpp\\llama_cpp.py:80\u001b[0m\n\u001b[0;32m     77\u001b[0m _lib_base_name \u001b[38;5;241m=\u001b[39m \u001b[38;5;124m\"\u001b[39m\u001b[38;5;124mllama\u001b[39m\u001b[38;5;124m\"\u001b[39m\n\u001b[0;32m     79\u001b[0m \u001b[38;5;66;03m# Load the library\u001b[39;00m\n\u001b[1;32m---> 80\u001b[0m _lib \u001b[38;5;241m=\u001b[39m _load_shared_library(_lib_base_name)\n\u001b[0;32m     82\u001b[0m \u001b[38;5;66;03m# Misc\u001b[39;00m\n\u001b[0;32m     83\u001b[0m c_float_p \u001b[38;5;241m=\u001b[39m POINTER(c_float)\n",
      "File \u001b[1;32m~\\anaconda3\\Lib\\site-packages\\llama_cpp\\llama_cpp.py:69\u001b[0m, in \u001b[0;36m_load_shared_library\u001b[1;34m(lib_base_name)\u001b[0m\n\u001b[0;32m     67\u001b[0m             \u001b[38;5;28;01mreturn\u001b[39;00m ctypes\u001b[38;5;241m.\u001b[39mCDLL(\u001b[38;5;28mstr\u001b[39m(_lib_path), \u001b[38;5;241m*\u001b[39m\u001b[38;5;241m*\u001b[39mcdll_args)\n\u001b[0;32m     68\u001b[0m         \u001b[38;5;28;01mexcept\u001b[39;00m \u001b[38;5;167;01mException\u001b[39;00m \u001b[38;5;28;01mas\u001b[39;00m e:\n\u001b[1;32m---> 69\u001b[0m             \u001b[38;5;28;01mraise\u001b[39;00m \u001b[38;5;167;01mRuntimeError\u001b[39;00m(\u001b[38;5;124mf\u001b[39m\u001b[38;5;124m\"\u001b[39m\u001b[38;5;124mFailed to load shared library \u001b[39m\u001b[38;5;124m'\u001b[39m\u001b[38;5;132;01m{\u001b[39;00m_lib_path\u001b[38;5;132;01m}\u001b[39;00m\u001b[38;5;124m'\u001b[39m\u001b[38;5;124m: \u001b[39m\u001b[38;5;132;01m{\u001b[39;00me\u001b[38;5;132;01m}\u001b[39;00m\u001b[38;5;124m\"\u001b[39m)\n\u001b[0;32m     71\u001b[0m \u001b[38;5;28;01mraise\u001b[39;00m \u001b[38;5;167;01mFileNotFoundError\u001b[39;00m(\n\u001b[0;32m     72\u001b[0m     \u001b[38;5;124mf\u001b[39m\u001b[38;5;124m\"\u001b[39m\u001b[38;5;124mShared library with base name \u001b[39m\u001b[38;5;124m'\u001b[39m\u001b[38;5;132;01m{\u001b[39;00mlib_base_name\u001b[38;5;132;01m}\u001b[39;00m\u001b[38;5;124m'\u001b[39m\u001b[38;5;124m not found\u001b[39m\u001b[38;5;124m\"\u001b[39m\n\u001b[0;32m     73\u001b[0m )\n",
      "\u001b[1;31mRuntimeError\u001b[0m: Failed to load shared library 'C:\\Users\\Shadow\\anaconda3\\Lib\\site-packages\\llama_cpp\\llama.dll': Could not find module 'C:\\Users\\Shadow\\anaconda3\\Lib\\site-packages\\llama_cpp\\llama.dll' (or one of its dependencies). Try using the full path with constructor syntax."
     ]
    }
   ],
   "source": [
    "import pennylane as qml\n",
    "import numpy as np\n",
    "import random\n",
    "import logging\n",
    "import asyncio\n",
    "import aiosqlite\n",
    "import aiohttp\n",
    "from summa import summarizer\n",
    "from llama_cpp import Llama\n",
    "import weaviate\n",
    "import re\n",
    "import torch\n",
    "import datetime\n",
    "import json\n",
    "\n",
    "# Quantum device setup\n",
    "dev = qml.device('default.qubit', wires=20)\n",
    "\n",
    "# Quantum circuit definition\n",
    "@qml.qnode(dev)\n",
    "def quantum_circuit(amplitudes, color_codes):\n",
    "    for i, amp in enumerate(amplitudes):\n",
    "        qml.RY(amp * np.pi, wires=i)\n",
    "    for i, code in enumerate(color_codes):\n",
    "        qml.RZ(code * np.pi, wires=i + 10)\n",
    "    for i in range(19):\n",
    "        qml.CNOT(wires=[i, i + 1])\n",
    "    return qml.state()\n",
    "\n",
    "# Logger setup\n",
    "logging.basicConfig(level=logging.DEBUG)\n",
    "logger = logging.getLogger(__name__)\n",
    "\n",
    "# Llama model initialization\n",
    "llm = Llama(\n",
    "    model_path=\"llama-2-7b-chat.ggmlv3.q8_0.bin\",\n",
    "    n_gpu_layers=-1,\n",
    "    n_ctx=3900,\n",
    ")\n",
    "\n",
    "# Weaviate client initialization\n",
    "client = weaviate.Client(\n",
    "    url=\"https://normally-unified-scorpion.ngrok-free.app/\",\n",
    ")\n",
    "\n",
    "# Database initialization\n",
    "async def initialize_db():\n",
    "    async with aiosqlite.connect(\"movie_frames.db\") as db:\n",
    "        await db.execute(\"\"\"\n",
    "            CREATE TABLE IF NOT EXISTS POOLDATA (\n",
    "                frame_num INTEGER PRIMARY KEY, \n",
    "                frame_text TEXT, \n",
    "                summary TEXT, \n",
    "                timestamp DATETIME\n",
    "            );\n",
    "        \"\"\")\n",
    "        await db.commit()\n",
    "\n",
    "# Insert data into database\n",
    "async def insert_into_db(frame_num, frame_text, summary, timestamp):\n",
    "    async with aiosqlite.connect(\"movie_frames.db\") as db:\n",
    "        await db.execute(\"\"\"\n",
    "            INSERT INTO POOLDATA (frame_num, frame_text, summary, timestamp) \n",
    "            VALUES (?, ?, ?, ?)\n",
    "        \"\"\", (frame_num, frame_text, summary, timestamp))\n",
    "        await db.commit()\n",
    "\n",
    "# Store data in Weaviate\n",
    "async def store_in_weaviate(frame_num, frame_text, summary, timestamp):\n",
    "    data_object = {\n",
    "        \"frame_num\": frame_num,\n",
    "        \"frame_text\": frame_text,\n",
    "        \"summary\": summary,\n",
    "        \"timestamp\": timestamp.isoformat()\n",
    "    }\n",
    "    client.data_object.create(data_object, \"MovieFrame\")\n",
    "\n",
    "# Generate HTML color code based on text sentiment\n",
    "async def generate_html_color_code(text):\n",
    "    attempts = 0\n",
    "    color_code = None\n",
    "    while not color_code and attempts < 10:\n",
    "        try:\n",
    "            prompt = f\"Based on the sentiment of the text '{text}', suggest a suitable HTML color code in hex format.\"\n",
    "            response = llm(prompt, max_tokens=10)\n",
    "            if response and response['choices']:\n",
    "                color_code_match = re.search(r'#[0-9A-Fa-f]{6}', response['choices'][0]['text'])\n",
    "                if color_code_match:\n",
    "                    color_code = color_code_match.group()\n",
    "        except Exception as e:\n",
    "            logger.error(f\"Error in generating color code: {e}\")\n",
    "        attempts += 1\n",
    "    if not color_code:\n",
    "        logger.warning(\"Failed to generate color code. Using a random color.\")\n",
    "        color_code = \"#{:06x}\".format(random.randint(0, 0xFFFFFF))\n",
    "    return color_code\n",
    "\n",
    "# Quantum sentiment analysis and frame generation\n",
    "async def generate_and_summarize_frame(last_frame, frame_num, frames, theme, past_summaries):\n",
    "    color_code_tasks = [generate_html_color_code(summary) for summary in past_summaries]\n",
    "    color_codes = await asyncio.gather(*color_code_tasks)\n",
    "    color_codes = [int(code.lstrip('#'), 16) for code in color_codes]\n",
    "\n",
    "    quantum_state = quantum_circuit([np.linalg.norm(np.random.rand(300)) for _ in past_summaries], color_codes)\n",
    "    quantum_influence = np.mean(quantum_state)\n",
    "    continuation_prompt = f\"{last_frame} Quantum influence: {quantum_influence}\"\n",
    "    continuation_response = llm(continuation_prompt, max_tokens=200)\n",
    "    new_frame = continuation_response['choices'][0]['text'] if continuation_response['choices'] else None\n",
    "\n",
    "    if new_frame:\n",
    "        summary = summarizer.summarize(new_frame, words=50)\n",
    "        timestamp = datetime.datetime.now()\n",
    "        await insert_into_db(frame_num, new_frame, summary, timestamp)\n",
    "        await store_in_weaviate(frame_num, new_frame, summary, timestamp)\n",
    "        return new_frame\n",
    "    return None\n",
    "\n",
    "# Main movie generation function\n",
    "async def start_movie(topic):\n",
    "    await initialize_db()\n",
    "    initial_prompt_response = llm(f\"Write a book about {topic}\", max_tokens=700)\n",
    "    initial_prompt = initial_prompt_response['choices'][0]['text'] if initial_prompt_response['choices'] else \"\"\n",
    "    frames = {\"0\": initial_prompt}\n",
    "    last_frame = initial_prompt\n",
    "    for i in range(1, 10000):\n",
    "        frame_num = i * 10\n",
    "        past_summaries = list(frames.values())[-10:]\n",
    "        last_frame = await generate_and_summarize_frame(last_frame, frame_num, frames, topic, past_summaries) or last_frame\n",
    "    sanitized_topic = ''.join(e for e in topic if e.isalnum())[:50]\n",
    "    with open(f\"{sanitized_topic}_movie_frames.json\", \"w\") as f:\n",
    "        json.dump(frames, f, indent=4)\n",
    "\n",
    "# Run the script\n",
    "if __name__ == \"__main__\":\n",
    "    import nest_asyncio\n",
    "    nest_asyncio.apply()\n",
    "    loop = asyncio.get_event_loop()\n",
    "    loop.run_until_complete(start_movie(\"CHAOS CHICKENS\"))\n",
    "    del llm\n",
    "    torch.cuda.empty_cache()"
   ]
  }
 ],
 "metadata": {
  "kernelspec": {
   "display_name": "Python 3 (ipykernel)",
   "language": "python",
   "name": "python3"
  },
  "language_info": {
   "codemirror_mode": {
    "name": "ipython",
    "version": 3
   },
   "file_extension": ".py",
   "mimetype": "text/x-python",
   "name": "python",
   "nbconvert_exporter": "python",
   "pygments_lexer": "ipython3",
   "version": "3.11.5"
  }
 },
 "nbformat": 4,
 "nbformat_minor": 2
}
